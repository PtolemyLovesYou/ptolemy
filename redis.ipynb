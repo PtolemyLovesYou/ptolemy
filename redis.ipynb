{
 "cells": [
  {
   "cell_type": "code",
   "execution_count": 17,
   "metadata": {},
   "outputs": [
    {
     "name": "stdout",
     "output_type": "stream",
     "text": [
      "['{\"record\":{\"parent_id\":\"01d16bed2fc749cc8f0835d8a97e570b\",\"id\":\"259ded91e07143f8a4de4207d70ef504\",\"name\":\"asdf\",\"parameters\":{\"foo\":\"bar\"},\"environment\":\"DEV\",\"version\":\"0.0.1\"},\"tier\":\"system\",\"log_type\":\"event\"}']\n",
      "['{\"record\":{\"parent_id\":\"259ded91e07143f8a4de4207d70ef504\",\"id\":\"d4fb75431ea44ebfac3253991ff27e97\",\"name\":\"sublog\",\"parameters\":{\"foo\":\"bar\"},\"environment\":\"DEV\",\"version\":\"0.0.1\"},\"tier\":\"subsystem\",\"log_type\":\"event\"}']\n",
      "['{\"record\":{\"parent_id\":\"d4fb75431ea44ebfac3253991ff27e97\",\"id\":\"20bc23aeb0be4c3bbbd16fa0dbb4d996\",\"start_time\":\"2024-11-17T22:31:35.044068\",\"end_time\":\"2024-11-17T22:31:35.045815\",\"error_type\":null,\"error_content\":null},\"tier\":\"subsystem\",\"log_type\":\"runtime\"}', '{\"record\":{\"parent_id\":\"d4fb75431ea44ebfac3253991ff27e97\",\"id\":\"de6bc573623b44529f38498cb416df73\",\"field_name\":\"foo\",\"field_value\":\"bar\"},\"tier\":\"subsystem\",\"log_type\":\"input\"}']\n",
      "['{\"record\":{\"parent_id\":\"259ded91e07143f8a4de4207d70ef504\",\"id\":\"f279293d1f5642acb5bd7439ed3a76ff\",\"start_time\":\"2024-11-17T22:31:35.038247\",\"end_time\":\"2024-11-17T22:31:35.051786\",\"error_type\":null,\"error_content\":null},\"tier\":\"system\",\"log_type\":\"runtime\"}', '{\"record\":{\"parent_id\":\"259ded91e07143f8a4de4207d70ef504\",\"id\":\"8dd5dd122bb44a0d96736b803e3e2aa4\",\"field_name\":\"foo\",\"field_value\":\"bar\"},\"tier\":\"system\",\"log_type\":\"input\"}', '{\"record\":{\"parent_id\":\"259ded91e07143f8a4de4207d70ef504\",\"id\":\"0326555210e642b994129ac86519b594\",\"field_name\":\"my\",\"field_value\":\"output\"},\"tier\":\"system\",\"log_type\":\"output\"}']\n"
     ]
    }
   ],
   "source": [
    "from tvali.client.redis import RedisTvali\n",
    "\n",
    "\n",
    "logger = RedisTvali.trace(\"asdf\", parameters={\"foo\": \"bar\"})\n",
    "logger.log(inputs={\"foo\": \"bar\"})\n",
    "\n",
    "async with logger:\n",
    "    sublog = logger.spawn(\"sublog\", parameters={\"foo\": \"bar\"})\n",
    "    async with sublog:\n",
    "        sublog.log(inputs={\"foo\": \"bar\"})\n",
    "\n",
    "    logger.log(outputs={\"my\": \"output\"})"
   ]
  }
 ],
 "metadata": {
  "kernelspec": {
   "display_name": ".venv",
   "language": "python",
   "name": "python3"
  },
  "language_info": {
   "codemirror_mode": {
    "name": "ipython",
    "version": 3
   },
   "file_extension": ".py",
   "mimetype": "text/x-python",
   "name": "python",
   "nbconvert_exporter": "python",
   "pygments_lexer": "ipython3",
   "version": "3.12.6"
  }
 },
 "nbformat": 4,
 "nbformat_minor": 2
}
