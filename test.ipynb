{
 "cells": [
  {
   "cell_type": "code",
   "execution_count": 9,
   "metadata": {},
   "outputs": [
    {
     "data": {
      "text/plain": [
       "UUID('e3f60361-07f3-4925-8f72-0c69f17479b2')"
      ]
     },
     "execution_count": 9,
     "metadata": {},
     "output_type": "execute_result"
    }
   ],
   "source": [
    "from typing import Union, Annotated\n",
    "from pydantic import RootModel, field_serializer, field_validator, BeforeValidator, PlainSerializer\n",
    "from uuid import UUID, uuid4\n",
    "\n",
    "def _validate_id(v: Union[str, UUID]) -> UUID:\n",
    "    if isinstance(v, str):\n",
    "        return UUID(v)\n",
    "\n",
    "    if isinstance(v, UUID):\n",
    "        return v\n",
    "\n",
    "    raise ValueError(f\"Invalid UUID: {v}\")\n",
    "\n",
    "class ID(RootModel):\n",
    "    root: Annotated[UUID, BeforeValidator(_validate_id), PlainSerializer(lambda v: v.hex, when_used=\"json\")]\n",
    "\n",
    "ID(uuid4()).model_dump()"
   ]
  }
 ],
 "metadata": {
  "kernelspec": {
   "display_name": ".venv",
   "language": "python",
   "name": "python3"
  },
  "language_info": {
   "codemirror_mode": {
    "name": "ipython",
    "version": 3
   },
   "file_extension": ".py",
   "mimetype": "text/x-python",
   "name": "python",
   "nbconvert_exporter": "python",
   "pygments_lexer": "ipython3",
   "version": "3.12.6"
  }
 },
 "nbformat": 4,
 "nbformat_minor": 2
}
